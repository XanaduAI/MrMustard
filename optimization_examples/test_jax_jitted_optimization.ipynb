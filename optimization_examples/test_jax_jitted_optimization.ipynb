{
 "cells": [
  {
   "cell_type": "markdown",
   "metadata": {},
   "source": [
    "#### JAX"
   ]
  },
  {
   "cell_type": "code",
   "execution_count": 1,
   "metadata": {},
   "outputs": [],
   "source": [
    "import tensorflow as tf\n",
    "tf.config.set_visible_devices([], 'GPU')\n",
    "visible_devices = tf.config.get_visible_devices()\n",
    "for device in visible_devices:\n",
    "    assert device.device_type != 'GPU'\n",
    "\n",
    "import os\n",
    "import jax\n",
    "jax.config.update('jax_default_device', jax.devices('cpu')[0])\n",
    "jax.config.update(\"jax_enable_x64\", True)\n",
    "os.environ['CUDA_VISIBLE_DEVICES'] = '-1'\n",
    "os.environ[\"JAX_PLATFORM_NAME\"] = \"cpu\"\n",
    "\n",
    "import numpy as np\n",
    "import time\n",
    "from mrmustard import math, settings\n",
    "from mrmustard.lab_dev import SqueezedVacuum, Vacuum, Sgate, Interferometer, Attenuator, BSgate, DM, TwoModeSqueezedVacuum, Circuit\n",
    "from mrmustard.physics import fidelity\n",
    "import os\n",
    "import optax\n",
    "from functools import partial\n",
    "from typing import Sequence\n",
    "import jax.numpy as jnp\n",
    "from mrmustard.training import Optimizer\n",
    "from tqdm import tqdm\n",
    "import equinox as eqx\n",
    "\n",
    "math._is_immutable = False\n",
    "math.change_backend(\"jax\")  #works on jax-development branch"
   ]
  },
  {
   "cell_type": "markdown",
   "metadata": {},
   "source": [
    "#### Evaluate optimization with JAX - fully jitted"
   ]
  },
  {
   "cell_type": "code",
   "execution_count": 26,
   "metadata": {},
   "outputs": [],
   "source": [
    "state_out = sq0 >> sq1 >> sq2 >> BS_01 >> BS_12"
   ]
  },
  {
   "cell_type": "code",
   "execution_count": 39,
   "metadata": {},
   "outputs": [
    {
     "name": "stdout",
     "output_type": "stream",
     "text": [
      "-1.5289120581876054\n"
     ]
    }
   ],
   "source": [
    "BS_01 = BSgate(modes=(0,1), theta=0.5, phi=0.5, theta_trainable=True, phi_trainable=True)\n",
    "BS_12 = BSgate(modes=(1,2), theta=0.1, phi=0.5, theta_trainable=True, phi_trainable=True)\n",
    "sq0 = SqueezedVacuum(mode=0, r=1.0, phi=0.1, r_trainable=True, phi_trainable=True)\n",
    "sq1 = SqueezedVacuum(mode=1, r=1.0, phi=0.1, r_trainable=True, phi_trainable=True)\n",
    "sq2 = SqueezedVacuum(mode=2, r=1.0, phi=0.1, r_trainable=True, phi_trainable=True)\n",
    "\n",
    "\n",
    "# dummy cost function\n",
    "def cost_fn(BS_01, BS_12, sq0, sq1, sq2):\n",
    "    state_out = sq0 >> sq1 >> sq2 >> BS_01 >> BS_12\n",
    "    return state_out.bargmann_triple()[0].sum().real\n",
    "\n",
    "\n",
    "# convert the circuit to equinox module\n",
    "class Objective(eqx.Module):\n",
    "    sq0_r: jax.Array\n",
    "    sq0_phi: jax.Array\n",
    "    sq1_r: jax.Array\n",
    "    sq1_phi: jax.Array\n",
    "    sq2_r: jax.Array\n",
    "    sq2_phi: jax.Array\n",
    "    BS_01_theta: jax.Array\n",
    "    BS_01_phi: jax.Array\n",
    "    BS_12_theta: jax.Array\n",
    "    BS_12_phi: jax.Array\n",
    "\n",
    "    def __init__(self):\n",
    "        self.sq0_r = self.sq1_r = self.sq2_r = jnp.array(1.0)\n",
    "        self.sq0_phi = self.sq1_phi = self.sq2_phi = jnp.array(0.1)\n",
    "        self.BS_01_theta = self.BS_01_phi = self.BS_12_theta = self.BS_12_phi = jnp.array(0.5)\n",
    "\n",
    "    def __call__(self):\n",
    "        sq0 = SqueezedVacuum(mode=0, r=self.sq0_r, phi=self.sq0_phi)\n",
    "        sq1 = SqueezedVacuum(mode=1, r=self.sq1_r, phi=self.sq1_phi)\n",
    "        sq2 = SqueezedVacuum(mode=2, r=self.sq2_r, phi=self.sq2_phi)\n",
    "        BS_01 = BSgate(modes=(0,1), theta=self.BS_01_theta, phi=self.BS_01_phi)\n",
    "        BS_12 = BSgate(modes=(1,2), theta=self.BS_12_theta, phi=self.BS_12_phi)\n",
    "        return cost_fn(BS_01, BS_12, sq0, sq1, sq2)\n",
    "\n",
    "# instantiate the model\n",
    "model = Objective()\n",
    "\n",
    "# partition the model into parameters and static variables\n",
    "params, static = eqx.partition(model, eqx.is_array)\n",
    "\n",
    "# loss function that accepts parameters and updates the circuit and returns the cost_fn\n",
    "def loss(params, static):\n",
    "    model = eqx.combine(params, static)\n",
    "    return model()\n",
    "\n",
    "# evaluate and compute gradients\n",
    "loss_val, grads = jax.value_and_grad(loss)(params, static)\n",
    "print(loss_val)"
   ]
  },
  {
   "cell_type": "code",
   "execution_count": 42,
   "metadata": {},
   "outputs": [
    {
     "name": "stdout",
     "output_type": "stream",
     "text": [
      "epoch: 0, loss: -2.821398038349355\n",
      "epoch: 1, loss: -2.88894909229339\n",
      "epoch: 2, loss: -2.910706038872732\n",
      "epoch: 3, loss: -2.9209236451888803\n",
      "epoch: 4, loss: -2.933078795831404\n",
      "epoch: 5, loss: -2.9447167869090434\n",
      "epoch: 6, loss: -2.9554825285507116\n",
      "epoch: 7, loss: -2.9641055767101827\n",
      "epoch: 8, loss: -2.9694987345966597\n",
      "epoch: 9, loss: -2.972231889905241\n"
     ]
    }
   ],
   "source": [
    "optim = optax.adamw(1e-1)\n",
    "opt_state = optim.init(eqx.filter(model, eqx.is_array))\n",
    "\n",
    "@eqx.filter_jit\n",
    "def make_step(\n",
    "    model,\n",
    "    opt_state,\n",
    "):\n",
    "    params, static = eqx.partition(model, eqx.is_array)\n",
    "    loss_value, grads = jax.value_and_grad(loss)(params, static)\n",
    "    updates, opt_state = optim.update(\n",
    "        grads, opt_state, eqx.filter(model, eqx.is_array)\n",
    "    )\n",
    "    model = eqx.apply_updates(model, updates)\n",
    "    return model, opt_state, loss_value\n",
    "\n",
    "for epoch in range(10):\n",
    "    model, opt_state, loss_value = make_step(model, opt_state)\n",
    "    print(f\"epoch: {epoch}, loss: {loss_value}\")"
   ]
  }
 ],
 "metadata": {
  "kernelspec": {
   "display_name": ".venv",
   "language": "python",
   "name": "python3"
  },
  "language_info": {
   "codemirror_mode": {
    "name": "ipython",
    "version": 3
   },
   "file_extension": ".py",
   "mimetype": "text/x-python",
   "name": "python",
   "nbconvert_exporter": "python",
   "pygments_lexer": "ipython3",
   "version": "3.11.10"
  }
 },
 "nbformat": 4,
 "nbformat_minor": 2
}
