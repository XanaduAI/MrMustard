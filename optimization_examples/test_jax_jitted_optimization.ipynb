{
 "cells": [
  {
   "cell_type": "markdown",
   "metadata": {},
   "source": [
    "#### JAX"
   ]
  },
  {
   "cell_type": "code",
   "execution_count": 1,
   "metadata": {},
   "outputs": [],
   "source": [
    "import tensorflow as tf\n",
    "tf.config.set_visible_devices([], 'GPU')\n",
    "visible_devices = tf.config.get_visible_devices()\n",
    "for device in visible_devices:\n",
    "    assert device.device_type != 'GPU'\n",
    "\n",
    "import os\n",
    "import jax\n",
    "jax.config.update('jax_default_device', jax.devices('cpu')[0])\n",
    "jax.config.update(\"jax_enable_x64\", True)\n",
    "os.environ['CUDA_VISIBLE_DEVICES'] = '-1'\n",
    "os.environ[\"JAX_PLATFORM_NAME\"] = \"cpu\"\n",
    "\n",
    "import numpy as np\n",
    "import time\n",
    "from mrmustard import math, settings\n",
    "from mrmustard.lab_dev import SqueezedVacuum, Vacuum, Sgate, Interferometer, Attenuator, BSgate, DM, TwoModeSqueezedVacuum, Circuit\n",
    "from mrmustard.physics import fidelity\n",
    "import os\n",
    "import optax\n",
    "from functools import partial\n",
    "from typing import Sequence\n",
    "import jax.numpy as jnp\n",
    "from mrmustard.training import Optimizer\n",
    "from tqdm import tqdm\n",
    "import equinox as eqx\n",
    "\n",
    "math._is_immutable = False\n",
    "math.change_backend(\"jax\")  #works on jax-development branch"
   ]
  },
  {
   "cell_type": "markdown",
   "metadata": {},
   "source": [
    "#### Evaluate optimization with JAX - fully jitted"
   ]
  },
  {
   "cell_type": "code",
   "execution_count": 6,
   "metadata": {},
   "outputs": [
    {
     "data": {
      "text/plain": [
       "Array(1., dtype=float64, weak_type=True)"
      ]
     },
     "execution_count": 6,
     "metadata": {},
     "output_type": "execute_result"
    }
   ],
   "source": [
    "sq0.parameters.all_parameters['r'].value "
   ]
  },
  {
   "cell_type": "code",
   "execution_count": 7,
   "metadata": {},
   "outputs": [
    {
     "name": "stdout",
     "output_type": "stream",
     "text": [
      "-1.5289120581876054\n"
     ]
    }
   ],
   "source": [
    "BS_01 = BSgate(modes=(0,1), theta=0.5, phi=0.5, theta_trainable=True, phi_trainable=True)\n",
    "BS_12 = BSgate(modes=(1,2), theta=0.1, phi=0.5, theta_trainable=True, phi_trainable=True)\n",
    "sq0 = SqueezedVacuum(mode=0, r=1.0, phi=0.1, r_trainable=True, phi_trainable=True)\n",
    "sq1 = SqueezedVacuum(mode=1, r=1.0, phi=0.1, r_trainable=True, phi_trainable=True)\n",
    "sq2 = SqueezedVacuum(mode=2, r=1.0, phi=0.1, r_trainable=True, phi_trainable=True)\n",
    "\n",
    "\n",
    "# cost function <- only thing that users will have to define differently than what's now\n",
    "# everything else can be automated.\n",
    "def cost_fn(BS_01, BS_12, sq0, sq1, sq2):\n",
    "    # just an example cost function.\n",
    "    state_out = sq0 >> sq1 >> sq2 >> BS_01 >> BS_12\n",
    "    return state_out.bargmann_triple()[0].sum().real\n",
    "\n",
    "\n",
    "# convert the circuit to equinox module\n",
    "class Objective(eqx.Module):\n",
    "    sq0_r: jax.Array\n",
    "    sq0_phi: jax.Array\n",
    "    sq1_r: jax.Array\n",
    "    sq1_phi: jax.Array\n",
    "    sq2_r: jax.Array\n",
    "    sq2_phi: jax.Array\n",
    "    BS_01_theta: jax.Array\n",
    "    BS_01_phi: jax.Array\n",
    "    BS_12_theta: jax.Array\n",
    "    BS_12_phi: jax.Array\n",
    "\n",
    "    def __init__(self):\n",
    "        self.sq0_r = self.sq1_r = self.sq2_r = jnp.array(1.0)\n",
    "        self.sq0_phi = self.sq1_phi = self.sq2_phi = jnp.array(0.1)\n",
    "        self.BS_01_theta = self.BS_01_phi = self.BS_12_theta = self.BS_12_phi = jnp.array(0.5)\n",
    "\n",
    "    def __call__(self):\n",
    "        \"\"\"\n",
    "        Option 1:\n",
    "        sq0 = SqueezedVacuum(mode=0, r=self.sq0_r, phi=self.sq0_phi)\n",
    "        sq1 = SqueezedVacuum(mode=1, r=self.sq1_r, phi=self.sq1_phi)\n",
    "        sq2 = SqueezedVacuum(mode=2, r=self.sq2_r, phi=self.sq2_phi)\n",
    "        BS_01 = BSgate(modes=(0,1), theta=self.BS_01_theta, phi=self.BS_01_phi)\n",
    "        BS_12 = BSgate(modes=(1,2), theta=self.BS_12_theta, phi=self.BS_12_phi)\n",
    "        \"\"\"\n",
    "\n",
    "        # Option 2:\n",
    "        sq0.parameters.all_parameters['r'].value = self.sq0_r\n",
    "        sq0.parameters.all_parameters['phi'].value = self.sq0_phi\n",
    "        sq1.parameters.all_parameters['r'].value = self.sq1_r\n",
    "        sq1.parameters.all_parameters['phi'].value = self.sq1_phi\n",
    "        sq2.parameters.all_parameters['r'].value = self.sq2_r\n",
    "        sq2.parameters.all_parameters['phi'].value = self.sq2_phi\n",
    "        BS_01.parameters.all_parameters['theta'].value = self.BS_01_theta\n",
    "        BS_01.parameters.all_parameters['phi'].value = self.BS_01_phi\n",
    "        BS_12.parameters.all_parameters['theta'].value = self.BS_12_theta\n",
    "        BS_12.parameters.all_parameters['phi'].value = self.BS_12_phi\n",
    "        return cost_fn(BS_01, BS_12, sq0, sq1, sq2)\n",
    "\n",
    "# instantiate the model\n",
    "model = Objective()\n",
    "\n",
    "# partition the model into parameters and static variables\n",
    "params, static = eqx.partition(model, eqx.is_array)\n",
    "\n",
    "# loss function that accepts parameters and updates the circuit and returns the cost_fn\n",
    "def loss(params, static):\n",
    "    model = eqx.combine(params, static)\n",
    "    return model()\n",
    "\n",
    "# evaluate and compute gradients\n",
    "loss_val, grads = jax.value_and_grad(loss)(params, static)\n",
    "print(loss_val)"
   ]
  },
  {
   "cell_type": "code",
   "execution_count": 8,
   "metadata": {},
   "outputs": [
    {
     "name": "stdout",
     "output_type": "stream",
     "text": [
      "epoch: 0, loss: -1.5289120581876054\n",
      "epoch: 1, loss: -2.129975544711847\n",
      "epoch: 2, loss: -2.4553275652705855\n",
      "epoch: 3, loss: -2.5788750083847938\n",
      "epoch: 4, loss: -2.608179752953926\n",
      "epoch: 5, loss: -2.6177150217833507\n",
      "epoch: 6, loss: -2.6388709328020776\n",
      "epoch: 7, loss: -2.675936453683075\n",
      "epoch: 8, loss: -2.7234815537287207\n",
      "epoch: 9, loss: -2.7742066335584754\n"
     ]
    }
   ],
   "source": [
    "optim = optax.adamw(1e-1)\n",
    "opt_state = optim.init(eqx.filter(model, eqx.is_array))\n",
    "\n",
    "@eqx.filter_jit\n",
    "def make_step(\n",
    "    model,\n",
    "    opt_state,\n",
    "):\n",
    "    params, static = eqx.partition(model, eqx.is_array)\n",
    "    loss_value, grads = jax.value_and_grad(loss)(params, static)\n",
    "    updates, opt_state = optim.update(\n",
    "        grads, opt_state, eqx.filter(model, eqx.is_array)\n",
    "    )\n",
    "    model = eqx.apply_updates(model, updates)\n",
    "    return model, opt_state, loss_value\n",
    "\n",
    "for epoch in range(10):\n",
    "    model, opt_state, loss_value = make_step(model, opt_state)\n",
    "    print(f\"epoch: {epoch}, loss: {loss_value}\")"
   ]
  },
  {
   "cell_type": "code",
   "execution_count": null,
   "metadata": {},
   "outputs": [],
   "source": []
  }
 ],
 "metadata": {
  "kernelspec": {
   "display_name": ".venv",
   "language": "python",
   "name": "python3"
  },
  "language_info": {
   "codemirror_mode": {
    "name": "ipython",
    "version": 3
   },
   "file_extension": ".py",
   "mimetype": "text/x-python",
   "name": "python",
   "nbconvert_exporter": "python",
   "pygments_lexer": "ipython3",
   "version": "3.10.17"
  }
 },
 "nbformat": 4,
 "nbformat_minor": 2
}
