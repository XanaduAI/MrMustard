{
 "cells": [
  {
   "cell_type": "code",
   "execution_count": 1,
   "metadata": {},
   "outputs": [],
   "source": [
    "import numpy as np\n",
    "import time\n",
    "from mrmustard import math, settings\n",
    "from mrmustard.lab.gates import Sgate\n",
    "from mrmustard.lab.states import SqueezedVacuum, Vacuum\n",
    "from mrmustard.physics import fidelity\n",
    "import os\n",
    "import jax\n",
    "import optax\n",
    "from functools import partial\n",
    "jax.config.update('jax_default_device', jax.devices('cpu')[0])\n",
    "jax.config.update(\"jax_enable_x64\", True)\n",
    "os.environ['CUDA_VISIBLE_DEVICES'] = '-1'\n",
    "os.environ[\"JAX_PLATFORM_NAME\"] = \"cpu\"\n",
    "\n",
    "math.change_backend(\"jax\")"
   ]
  },
  {
   "cell_type": "markdown",
   "metadata": {},
   "source": [
    "##### JAX updates"
   ]
  },
  {
   "cell_type": "code",
   "execution_count": 2,
   "metadata": {},
   "outputs": [
    {
     "name": "stderr",
     "output_type": "stream",
     "text": [
      "/home/hitarth.choubisa/virtualenvs/tf-env/lib/python3.10/site-packages/jax/_src/lax/lax.py:3480: ComplexWarning: Casting complex values to real discards the imaginary part\n",
      "  x_bar = _convert_element_type(x_bar, x.aval.dtype, x.aval.weak_type)\n"
     ]
    },
    {
     "name": "stdout",
     "output_type": "stream",
     "text": [
      "6.334027528032138e-07\n",
      "1.3647212982177734\n"
     ]
    }
   ],
   "source": [
    "# JAX\n",
    "S = Sgate(r=0.1, phi=0, r_trainable=True, phi_trainable=True)\n",
    "target_state = SqueezedVacuum(r=1.0, phi=np.pi/2)\n",
    "\n",
    "optimizer = optax.adam(learning_rate=0.1)\n",
    "params = [p.value for p in S.parameter_set.all_parameters.values()]\n",
    "opt_state = optimizer.init(params)\n",
    "\n",
    "@jax.jit\n",
    "def compute_loss(params):\n",
    "    S.parameter_set.all_parameters['r'].assign(params[0])\n",
    "    S.parameter_set.all_parameters['phi'].assign(params[1])\n",
    "    return 1-fidelity(Vacuum(1) >> S, target_state)\n",
    "\n",
    "@jax.jit\n",
    "def update_step(params, opt_state):\n",
    "    grads = jax.grad(compute_loss)(params)\n",
    "    updates, new_opt_state = optimizer.update(grads, opt_state)\n",
    "    new_params = optax.apply_updates(params, updates)\n",
    "    return new_params, new_opt_state\n",
    "\n",
    "\n",
    "start = time.time()\n",
    "for i in range(100):\n",
    "    params, opt_state = update_step(params, opt_state)\n",
    "\n",
    "    \n",
    "end = time.time()\n",
    "print(compute_loss(params))\n",
    "print(end-start)"
   ]
  },
  {
   "cell_type": "markdown",
   "metadata": {},
   "source": [
    "##### Tensorflow benchmark\n",
    "* Restart the kernel before running the cell below to change the backend"
   ]
  },
  {
   "cell_type": "code",
   "execution_count": 1,
   "metadata": {},
   "outputs": [
    {
     "name": "stderr",
     "output_type": "stream",
     "text": [
      "WARNING: All log messages before absl::InitializeLog() is called are written to STDERR\n",
      "E0000 00:00:1736452355.525083   13034 cuda_dnn.cc:8310] Unable to register cuDNN factory: Attempting to register factory for plugin cuDNN when one has already been registered\n",
      "E0000 00:00:1736452355.531181   13034 cuda_blas.cc:1418] Unable to register cuBLAS factory: Attempting to register factory for plugin cuBLAS when one has already been registered\n",
      "2025-01-09 19:52:37.576006: I external/xla/xla/pjrt/pjrt_c_api_client.cc:127] PjRtCApiClient created.\n"
     ]
    }
   ],
   "source": [
    "import numpy as np\n",
    "import time\n",
    "from mrmustard import math, settings\n",
    "from mrmustard.lab.gates import Sgate\n",
    "from mrmustard.lab.states import SqueezedVacuum, Vacuum\n",
    "from mrmustard.physics import fidelity\n",
    "from mrmustard.training import Optimizer\n",
    "import os\n",
    "import jax\n",
    "import optax\n",
    "jax.config.update('jax_default_device', jax.devices('cpu')[0])\n",
    "jax.config.update(\"jax_enable_x64\", True)\n",
    "os.environ['CUDA_VISIBLE_DEVICES'] = '-1'\n",
    "os.environ[\"JAX_PLATFORM_NAME\"] = \"cpu\"\n",
    "math.change_backend(\"tensorflow\")"
   ]
  },
  {
   "cell_type": "code",
   "execution_count": 2,
   "metadata": {},
   "outputs": [
    {
     "name": "stderr",
     "output_type": "stream",
     "text": [
      "I0000 00:00:1736452359.576105   13034 gpu_device.cc:2022] Created device /job:localhost/replica:0/task:0/device:GPU:0 with 663 MB memory:  -> device: 0, name: Tesla T4, pci bus id: 0000:00:1e.0, compute capability: 7.5\n"
     ]
    },
    {
     "data": {
      "application/vnd.jupyter.widget-view+json": {
       "model_id": "3d681f2efdc64a3ea161a5aebcd0bb40",
       "version_major": 2,
       "version_minor": 0
      },
      "text/plain": [
       "Output()"
      ]
     },
     "metadata": {},
     "output_type": "display_data"
    },
    {
     "name": "stderr",
     "output_type": "stream",
     "text": [
      "WARNING: All log messages before absl::InitializeLog() is called are written to STDERR\n",
      "I0000 00:00:1736452359.838742   13034 cuda_solvers.cc:178] Creating GpuSolver handles for stream 0x63af94563e20\n"
     ]
    },
    {
     "data": {
      "text/html": [
       "<pre style=\"white-space:pre;overflow-x:auto;line-height:normal;font-family:Menlo,'DejaVu Sans Mono',consolas,'Courier New',monospace\"></pre>\n"
      ],
      "text/plain": []
     },
     "metadata": {},
     "output_type": "display_data"
    },
    {
     "name": "stdout",
     "output_type": "stream",
     "text": [
      "tf.Tensor(3.248519471532596e-06, shape=(), dtype=float64)\n",
      "Time taken:  10.761883974075317\n"
     ]
    }
   ],
   "source": [
    "# tensorflow\n",
    "S = Sgate(r=0.1, phi=0, r_trainable=True, phi_trainable=True)\n",
    "target_state = SqueezedVacuum(r=1.0, phi=np.pi/2)\n",
    "\n",
    "def cost_fn_sympl():\n",
    "    state_out = Vacuum(1) >> S\n",
    "    return 1 - fidelity(state_out, target_state)\n",
    "\n",
    "start = time.time()\n",
    "opt = Optimizer(symplectic_lr=0.1, euclidean_lr=0.05)\n",
    "opt.minimize(cost_fn_sympl, by_optimizing=[S], max_steps=100)\n",
    "end = time.time()\n",
    "print(cost_fn_sympl())\n",
    "print(\"Time taken: \", end-start)"
   ]
  }
 ],
 "metadata": {
  "kernelspec": {
   "display_name": "tf-env",
   "language": "python",
   "name": "python3"
  },
  "language_info": {
   "codemirror_mode": {
    "name": "ipython",
    "version": 3
   },
   "file_extension": ".py",
   "mimetype": "text/x-python",
   "name": "python",
   "nbconvert_exporter": "python",
   "pygments_lexer": "ipython3",
   "version": "3.10.12"
  }
 },
 "nbformat": 4,
 "nbformat_minor": 2
}
