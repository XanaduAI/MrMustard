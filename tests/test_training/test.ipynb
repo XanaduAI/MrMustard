{
 "cells": [
  {
   "cell_type": "markdown",
   "metadata": {},
   "source": [
    "#### JAX"
   ]
  },
  {
   "cell_type": "code",
   "execution_count": 1,
   "metadata": {},
   "outputs": [
    {
     "name": "stderr",
     "output_type": "stream",
     "text": [
      "2025-01-20 18:42:26.269286: I tensorflow/core/util/port.cc:153] oneDNN custom operations are on. You may see slightly different numerical results due to floating-point round-off errors from different computation orders. To turn them off, set the environment variable `TF_ENABLE_ONEDNN_OPTS=0`.\n",
      "2025-01-20 18:42:26.285814: E external/local_xla/xla/stream_executor/cuda/cuda_fft.cc:477] Unable to register cuFFT factory: Attempting to register factory for plugin cuFFT when one has already been registered\n",
      "WARNING: All log messages before absl::InitializeLog() is called are written to STDERR\n",
      "E0000 00:00:1737398546.306012  315696 cuda_dnn.cc:8310] Unable to register cuDNN factory: Attempting to register factory for plugin cuDNN when one has already been registered\n",
      "E0000 00:00:1737398546.312085  315696 cuda_blas.cc:1418] Unable to register cuBLAS factory: Attempting to register factory for plugin cuBLAS when one has already been registered\n",
      "2025-01-20 18:42:26.332869: I tensorflow/core/platform/cpu_feature_guard.cc:210] This TensorFlow binary is optimized to use available CPU instructions in performance-critical operations.\n",
      "To enable the following instructions: AVX2 AVX512F AVX512_VNNI FMA, in other operations, rebuild TensorFlow with the appropriate compiler flags.\n"
     ]
    }
   ],
   "source": [
    "import tensorflow as tf\n",
    "tf.config.set_visible_devices([], 'GPU')\n",
    "visible_devices = tf.config.get_visible_devices()\n",
    "for device in visible_devices:\n",
    "    assert device.device_type != 'GPU'\n",
    "import os\n",
    "import jax\n",
    "jax.config.update('jax_default_device', jax.devices('cpu')[0])\n",
    "jax.config.update(\"jax_enable_x64\", True)\n",
    "os.environ['CUDA_VISIBLE_DEVICES'] = '-1'\n",
    "os.environ[\"JAX_PLATFORM_NAME\"] = \"cpu\"\n",
    "\n",
    "import numpy as np\n",
    "import time\n",
    "from mrmustard import math, settings\n",
    "from mrmustard.lab_dev import SqueezedVacuum, Vacuum, Sgate, Interferometer, Attenuator, BSgate, DM\n",
    "from mrmustard.physics import fidelity\n",
    "import os\n",
    "import optax\n",
    "from functools import partial\n",
    "from typing import Sequence\n",
    "import jax.numpy as jnp\n",
    "from mrmustard.training import Optimizer\n",
    "from tqdm import tqdm\n",
    "\n",
    "math.change_backend(\"jax\")  #works on jax-development branch"
   ]
  },
  {
   "cell_type": "markdown",
   "metadata": {},
   "source": [
    "#### Evaluate optimization with JAX - fully jitted"
   ]
  },
  {
   "cell_type": "code",
   "execution_count": 3,
   "metadata": {},
   "outputs": [
    {
     "name": "stderr",
     "output_type": "stream",
     "text": [
      "100%|██████████| 1000/1000 [01:27<00:00, 11.47it/s]\n"
     ]
    },
    {
     "name": "stdout",
     "output_type": "stream",
     "text": [
      "87.22015571594238\n",
      "-0.003090005071263963\n"
     ]
    }
   ],
   "source": [
    "BS_01 = BSgate(modes=(0,1), theta=0.5, phi=0.5, theta_trainable=True, phi_trainable=True)\n",
    "BS_12 = BSgate(modes=(1,2), theta=0.1, phi=0.5, theta_trainable=True, phi_trainable=True)\n",
    "att = Attenuator(modes=(0,1,2), transmissivity=0.5, transmissivity_trainable=False)\n",
    "initial_state = SqueezedVacuum(modes=(0,1,2), r=1.0, phi=0.1, r_trainable=True, phi_trainable=True)\n",
    "state_out = initial_state >> BS_01 >> BS_12 >> att\n",
    "\n",
    "\n",
    "optimizer = optax.adam(learning_rate=0.001)\n",
    "params = [p.value for p in initial_state.parameters.all_parameters.values()] + [p.value for p in BS_01.parameters.all_parameters.values()] + [p.value for p in BS_12.parameters.all_parameters.values()]\n",
    "opt_state = optimizer.init(params)\n",
    "\n",
    "#@jax.jit\n",
    "def compute_state_out(params):\n",
    "    initial_state.parameters.all_parameters['r'].assign(params[0])\n",
    "    initial_state.parameters.all_parameters['phi'].assign(params[1])\n",
    "    BS_01.parameters.all_parameters['theta'].assign(params[2])\n",
    "    BS_01.parameters.all_parameters['phi'].assign(params[3])\n",
    "    BS_12.parameters.all_parameters['theta'].assign(params[4])\n",
    "    BS_12.parameters.all_parameters['phi'].assign(params[5])\n",
    "    state_out = initial_state >> BS_01 >> BS_12 >> att\n",
    "    return state_out.bargmann_triple()\n",
    "\n",
    "\n",
    "def compute_loss(params):\n",
    "    triples = compute_state_out(params)\n",
    "    state_out = DM.from_bargmann(modes=(0,1,2), triple=triples)\n",
    "    output_fock_state = state_out.fock_array(shape=(20,5,5,20,5,5))\n",
    "    marginal = output_fock_state[:,4,4,:,4,4]\n",
    "    val = -1*math.real(math.trace(marginal))\n",
    "    return val\n",
    "\n",
    "@jax.jit\n",
    "def update_step(params, opt_state):\n",
    "    loss, grads = jax.value_and_grad(compute_loss)(params)\n",
    "    updates, new_opt_state = optimizer.update(grads, opt_state)\n",
    "    new_params = optax.apply_updates(params, updates)\n",
    "    return new_params, new_opt_state, loss\n",
    "\n",
    "\n",
    "params, opt_state, loss_val = update_step(params, opt_state)\n",
    "start = time.time()\n",
    "for i in tqdm(range(1000)):\n",
    "    params, opt_state, loss_val = update_step(params, opt_state)\n",
    "end = time.time()\n",
    "print(end-start)\n",
    "print(loss_val)"
   ]
  },
  {
   "cell_type": "markdown",
   "metadata": {},
   "source": [
    "#### Evaluate forward passes with JAX - fully jitted"
   ]
  },
  {
   "cell_type": "code",
   "execution_count": 5,
   "metadata": {},
   "outputs": [
    {
     "name": "stdout",
     "output_type": "stream",
     "text": [
      "10 ms ± 35.4 μs per loop (mean ± std. dev. of 7 runs, 100 loops each)\n"
     ]
    }
   ],
   "source": [
    "BS_01 = BSgate(modes=(0,1), theta=0.5, phi=0.5, theta_trainable=True, phi_trainable=True)\n",
    "BS_12 = BSgate(modes=(1,2), theta=0.1, phi=0.5, theta_trainable=True, phi_trainable=True)\n",
    "att = Attenuator(modes=(0,1,2), transmissivity=0.5, transmissivity_trainable=False)\n",
    "initial_state = SqueezedVacuum(modes=(0,1,2), r=1.0, phi=0.1, r_trainable=True, phi_trainable=True)\n",
    "state_out = initial_state >> BS_01 >> BS_12 >> att\n",
    "\n",
    "\n",
    "optimizer = optax.adam(learning_rate=0.001)\n",
    "params = [p.value for p in initial_state.parameters.all_parameters.values()] + [p.value for p in BS_01.parameters.all_parameters.values()] + [p.value for p in BS_12.parameters.all_parameters.values()]\n",
    "opt_state = optimizer.init(params)\n",
    "\n",
    "@jax.jit\n",
    "def compute_state_out(params):\n",
    "    initial_state.parameters.all_parameters['r'].assign(params[0])\n",
    "    initial_state.parameters.all_parameters['phi'].assign(params[1])\n",
    "    BS_01.parameters.all_parameters['theta'].assign(params[2])\n",
    "    BS_01.parameters.all_parameters['phi'].assign(params[3])\n",
    "    BS_12.parameters.all_parameters['theta'].assign(params[4])\n",
    "    BS_12.parameters.all_parameters['phi'].assign(params[5])\n",
    "    state_out = initial_state >> BS_01 >> BS_12 >> att\n",
    "    return state_out.bargmann_triple()\n",
    "\n",
    "\n",
    "def compute_loss(params):\n",
    "    params[0] -= 0.001 #jax.random.uniform(jax.random.PRNGKey(0), shape=(1,)) / 100\n",
    "    triples = compute_state_out(params)\n",
    "    state_out = DM.from_bargmann(modes=(0,1,2), triple=triples)\n",
    "    output_fock_state = state_out.fock_array(shape=(20,5,5,20,5,5))\n",
    "    marginal = output_fock_state[:,4,4,:,4,4]\n",
    "    val = -1*math.real(math.trace(marginal))\n",
    "    return val\n",
    "\n",
    "_ = compute_loss(params)\n",
    "%timeit _ = compute_loss(params)"
   ]
  },
  {
   "cell_type": "markdown",
   "metadata": {},
   "source": [
    "#### Numba "
   ]
  },
  {
   "cell_type": "code",
   "execution_count": null,
   "metadata": {},
   "outputs": [],
   "source": [
    "import tensorflow as tf\n",
    "tf.config.set_visible_devices([], 'GPU')\n",
    "visible_devices = tf.config.get_visible_devices()\n",
    "for device in visible_devices:\n",
    "    assert device.device_type != 'GPU'\n",
    "import os\n",
    "import jax\n",
    "jax.config.update('jax_default_device', jax.devices('cpu')[0])\n",
    "jax.config.update(\"jax_enable_x64\", True)\n",
    "os.environ['CUDA_VISIBLE_DEVICES'] = '-1'\n",
    "os.environ[\"JAX_PLATFORM_NAME\"] = \"cpu\"\n",
    "\n",
    "import numpy as np\n",
    "import time\n",
    "from mrmustard import math, settings\n",
    "from mrmustard.lab_dev import SqueezedVacuum, Vacuum, Sgate, Interferometer, Attenuator, BSgate, DM\n",
    "from mrmustard.physics import fidelity\n",
    "import os\n",
    "import optax\n",
    "from functools import partial\n",
    "from typing import Sequence\n",
    "import jax.numpy as jnp\n",
    "from mrmustard.training import Optimizer\n",
    "from tqdm import tqdm\n",
    "\n",
    "math.change_backend(\"numpy\")"
   ]
  },
  {
   "cell_type": "code",
   "execution_count": 2,
   "metadata": {},
   "outputs": [
    {
     "name": "stdout",
     "output_type": "stream",
     "text": [
      "27.3 ms ± 274 μs per loop (mean ± std. dev. of 7 runs, 10 loops each)\n"
     ]
    }
   ],
   "source": [
    "BS_01 = BSgate(modes=(0,1), theta=0.5, phi=0.5, theta_trainable=True, phi_trainable=True)\n",
    "BS_12 = BSgate(modes=(1,2), theta=0.1, phi=0.5, theta_trainable=True, phi_trainable=True)\n",
    "att = Attenuator(modes=(0,1,2), transmissivity=0.5, transmissivity_trainable=False)\n",
    "initial_state = SqueezedVacuum(modes=(0,1,2), r=1.0, phi=0.1, r_trainable=True, phi_trainable=True)\n",
    "\n",
    "def cost_fn():\n",
    "    output_state = initial_state >> BS_01 >> BS_12 >> att\n",
    "    output_fock_state = output_state.fock_array(shape=(20,5,5,20,5,5))\n",
    "    marginal = output_fock_state[:,4,4,:,4,4]\n",
    "    val = -1*math.real(math.trace(marginal))\n",
    "    return val\n",
    "\n",
    "_ = cost_fn()\n",
    "%timeit _ = cost_fn()"
   ]
  },
  {
   "cell_type": "markdown",
   "metadata": {},
   "source": [
    "#### Tensorflow code"
   ]
  },
  {
   "cell_type": "code",
   "execution_count": 1,
   "metadata": {},
   "outputs": [
    {
     "name": "stderr",
     "output_type": "stream",
     "text": [
      "2025-01-20 18:54:19.925163: I tensorflow/core/util/port.cc:153] oneDNN custom operations are on. You may see slightly different numerical results due to floating-point round-off errors from different computation orders. To turn them off, set the environment variable `TF_ENABLE_ONEDNN_OPTS=0`.\n",
      "2025-01-20 18:54:19.941444: E external/local_xla/xla/stream_executor/cuda/cuda_fft.cc:477] Unable to register cuFFT factory: Attempting to register factory for plugin cuFFT when one has already been registered\n",
      "WARNING: All log messages before absl::InitializeLog() is called are written to STDERR\n",
      "E0000 00:00:1737399259.961501  316216 cuda_dnn.cc:8310] Unable to register cuDNN factory: Attempting to register factory for plugin cuDNN when one has already been registered\n",
      "E0000 00:00:1737399259.967791  316216 cuda_blas.cc:1418] Unable to register cuBLAS factory: Attempting to register factory for plugin cuBLAS when one has already been registered\n",
      "2025-01-20 18:54:19.988721: I tensorflow/core/platform/cpu_feature_guard.cc:210] This TensorFlow binary is optimized to use available CPU instructions in performance-critical operations.\n",
      "To enable the following instructions: AVX2 AVX512F AVX512_VNNI FMA, in other operations, rebuild TensorFlow with the appropriate compiler flags.\n"
     ]
    }
   ],
   "source": [
    "import tensorflow as tf\n",
    "tf.config.set_visible_devices([], 'GPU')\n",
    "visible_devices = tf.config.get_visible_devices()\n",
    "for device in visible_devices:\n",
    "    assert device.device_type != 'GPU'\n",
    "import os\n",
    "import jax\n",
    "jax.config.update('jax_default_device', jax.devices('cpu')[0])\n",
    "jax.config.update(\"jax_enable_x64\", True)\n",
    "os.environ['CUDA_VISIBLE_DEVICES'] = '0'\n",
    "os.environ[\"JAX_PLATFORM_NAME\"] = \"cpu\"\n",
    "\n",
    "import numpy as np\n",
    "import time\n",
    "from mrmustard import math, settings\n",
    "from mrmustard.lab_dev import SqueezedVacuum, Vacuum, Sgate, Interferometer, Attenuator, BSgate, DM\n",
    "from mrmustard.physics import fidelity\n",
    "import os\n",
    "import optax\n",
    "from functools import partial\n",
    "from typing import Sequence\n",
    "import jax.numpy as jnp\n",
    "from mrmustard.training import Optimizer\n",
    "from tqdm import tqdm\n",
    "\n",
    "math.change_backend(\"tensorflow\")  #works on  branch tfLabDev"
   ]
  },
  {
   "cell_type": "code",
   "execution_count": 2,
   "metadata": {},
   "outputs": [],
   "source": [
    "BS_01 = BSgate(modes=(0,1), theta=0.5, phi=0.5, theta_trainable=True, phi_trainable=True)\n",
    "BS_12 = BSgate(modes=(1,2), theta=0.1, phi=0.5, theta_trainable=True, phi_trainable=True)\n",
    "att = Attenuator(modes=(0,1,2), transmissivity=0.5, transmissivity_trainable=False)\n",
    "initial_state = SqueezedVacuum(modes=(0,1,2), r=1.0, phi=0.1, r_trainable=True, phi_trainable=True)\n",
    "\n",
    "def cost_fn():\n",
    "    output_state = initial_state >> BS_01 >> BS_12 >> att\n",
    "    output_fock_state = output_state.fock_array(shape=(20,5,5,20,5,5))\n",
    "    marginal = output_fock_state[:,4,4,:,4,4]\n",
    "    val = -1*math.real(math.trace(marginal))\n",
    "    return val\n",
    "\n",
    "_ = cost_fn()\n",
    "\n",
    "opt = Optimizer(euclidean_lr=0.1)\n",
    "start = time.time()\n",
    "opt.minimize(cost_fn, by_optimizing=[initial_state, BS_01, BS_12], max_steps=10)\n",
    "end = time.time()\n",
    "print(end-start) # this time is not accurate. Refer to the time reported at the bottom left of this cell for an estimate."
   ]
  },
  {
   "cell_type": "code",
   "execution_count": 4,
   "metadata": {},
   "outputs": [
    {
     "name": "stdout",
     "output_type": "stream",
     "text": [
      "170 ms ± 893 μs per loop (mean ± std. dev. of 7 runs, 10 loops each)\n"
     ]
    }
   ],
   "source": [
    "BS_01 = BSgate(modes=(0,1), theta=0.5, phi=0.5, theta_trainable=True, phi_trainable=True)\n",
    "BS_12 = BSgate(modes=(1,2), theta=0.1, phi=0.5, theta_trainable=True, phi_trainable=True)\n",
    "att = Attenuator(modes=(0,1,2), transmissivity=0.5, transmissivity_trainable=False)\n",
    "initial_state = SqueezedVacuum(modes=(0,1,2), r=1.0, phi=0.1, r_trainable=True, phi_trainable=True)\n",
    "\n",
    "def cost_fn():\n",
    "    output_state = initial_state >> BS_01 >> BS_12 >> att\n",
    "    output_fock_state = output_state.fock_array(shape=(20,5,5,20,5,5))\n",
    "    marginal = output_fock_state[:,4,4,:,4,4]\n",
    "    val = -1*math.real(math.trace(marginal))\n",
    "    return val\n",
    "\n",
    "_ = cost_fn()\n",
    "%timeit _ = cost_fn()"
   ]
  }
 ],
 "metadata": {
  "kernelspec": {
   "display_name": "tf-env",
   "language": "python",
   "name": "python3"
  },
  "language_info": {
   "codemirror_mode": {
    "name": "ipython",
    "version": 3
   },
   "file_extension": ".py",
   "mimetype": "text/x-python",
   "name": "python",
   "nbconvert_exporter": "python",
   "pygments_lexer": "ipython3",
   "version": "3.10.12"
  }
 },
 "nbformat": 4,
 "nbformat_minor": 2
}
